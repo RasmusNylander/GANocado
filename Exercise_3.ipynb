{
 "cells": [
  {
   "cell_type": "markdown",
   "metadata": {
    "id": "XPPysUMOZxgz"
   },
   "source": [
    "# Exercise 3\n",
    "## Generative adversarial networks\n",
    "### Generating of MNIST digits with a GAN\n",
    "\n",
    "First we import the modules we need"
   ]
  },
  {
   "cell_type": "code",
   "execution_count": 2,
   "metadata": {},
   "outputs": [
    {
     "name": "stdout",
     "output_type": "stream",
     "text": [
      "hey\n"
     ]
    }
   ],
   "source": [
    "print('hey')"
   ]
  },
  {
   "cell_type": "code",
   "execution_count": 3,
   "metadata": {
    "id": "TlFFUmfoZxg1"
   },
   "outputs": [],
   "source": [
    "import numpy as np\n",
    "from tqdm.notebook import tqdm\n",
    "import torch\n",
    "import torch.nn as nn\n",
    "import torch.nn.functional as F\n",
    "import torchvision.datasets as datasets\n",
    "from torch.utils.data import DataLoader\n",
    "import torchvision.transforms as transforms\n",
    "from IPython import display\n",
    "import matplotlib.pylab as plt\n",
    "import ipywidgets"
   ]
  },
  {
   "cell_type": "markdown",
   "metadata": {
    "id": "UKTYJngTuOtG"
   },
   "source": [
    "Check that we're running on GPU, and initialize our device"
   ]
  },
  {
   "cell_type": "code",
   "execution_count": 4,
   "metadata": {
    "id": "RLcplSTKZxg4"
   },
   "outputs": [
    {
     "name": "stdout",
     "output_type": "stream",
     "text": [
      "The code will run on GPU.\n"
     ]
    }
   ],
   "source": [
    "if torch.cuda.is_available():\n",
    "    print(\"The code will run on GPU.\")\n",
    "else:\n",
    "    print(\"The code will run on CPU. Go to Edit->Notebook Settings and choose GPU as the hardware accelerator\")\n",
    "device = torch.device('cuda' if torch.cuda.is_available() else 'cpu')"
   ]
  },
  {
   "cell_type": "markdown",
   "metadata": {
    "id": "lV2YzpnSuUwt"
   },
   "source": [
    "Setup our MNIST dataloaders"
   ]
  },
  {
   "cell_type": "code",
   "execution_count": 5,
   "metadata": {
    "id": "hSXlDTz0Zxg7"
   },
   "outputs": [
    {
     "name": "stdout",
     "output_type": "stream",
     "text": [
      "Downloading http://yann.lecun.com/exdb/mnist/train-images-idx3-ubyte.gz\n",
      "Downloading http://yann.lecun.com/exdb/mnist/train-images-idx3-ubyte.gz to ./data/MNIST/raw/train-images-idx3-ubyte.gz\n"
     ]
    },
    {
     "name": "stderr",
     "output_type": "stream",
     "text": [
      "100%|████████████████████████████████████████████████████████████████████████████| 9912422/9912422 [00:00<00:00, 93014493.33it/s]\n"
     ]
    },
    {
     "name": "stdout",
     "output_type": "stream",
     "text": [
      "Extracting ./data/MNIST/raw/train-images-idx3-ubyte.gz to ./data/MNIST/raw\n",
      "\n",
      "Downloading http://yann.lecun.com/exdb/mnist/train-labels-idx1-ubyte.gz\n",
      "Downloading http://yann.lecun.com/exdb/mnist/train-labels-idx1-ubyte.gz to ./data/MNIST/raw/train-labels-idx1-ubyte.gz\n"
     ]
    },
    {
     "name": "stderr",
     "output_type": "stream",
     "text": [
      "100%|█████████████████████████████████████████████████████████████████████████████████| 28881/28881 [00:00<00:00, 4126015.66it/s]\n"
     ]
    },
    {
     "name": "stdout",
     "output_type": "stream",
     "text": [
      "Extracting ./data/MNIST/raw/train-labels-idx1-ubyte.gz to ./data/MNIST/raw\n",
      "\n",
      "Downloading http://yann.lecun.com/exdb/mnist/t10k-images-idx3-ubyte.gz\n",
      "Downloading http://yann.lecun.com/exdb/mnist/t10k-images-idx3-ubyte.gz to ./data/MNIST/raw/t10k-images-idx3-ubyte.gz\n"
     ]
    },
    {
     "name": "stderr",
     "output_type": "stream",
     "text": [
      "100%|████████████████████████████████████████████████████████████████████████████| 1648877/1648877 [00:00<00:00, 22719225.89it/s]\n"
     ]
    },
    {
     "name": "stdout",
     "output_type": "stream",
     "text": [
      "Extracting ./data/MNIST/raw/t10k-images-idx3-ubyte.gz to ./data/MNIST/raw\n",
      "\n",
      "Downloading http://yann.lecun.com/exdb/mnist/t10k-labels-idx1-ubyte.gz\n",
      "Downloading http://yann.lecun.com/exdb/mnist/t10k-labels-idx1-ubyte.gz to ./data/MNIST/raw/t10k-labels-idx1-ubyte.gz\n"
     ]
    },
    {
     "name": "stderr",
     "output_type": "stream",
     "text": [
      "100%|██████████████████████████████████████████████████████████████████████████████████| 4542/4542 [00:00<00:00, 59907323.17it/s]\n"
     ]
    },
    {
     "name": "stdout",
     "output_type": "stream",
     "text": [
      "Extracting ./data/MNIST/raw/t10k-labels-idx1-ubyte.gz to ./data/MNIST/raw\n",
      "\n"
     ]
    }
   ],
   "source": [
    "batch_size = 64\n",
    "trainset = datasets.MNIST('./data', train=True, download=True, transform=transforms.ToTensor())\n",
    "train_loader = DataLoader(trainset, batch_size=batch_size, shuffle=True)\n",
    "testset = datasets.MNIST('./data', train=False, download=True, transform=transforms.ToTensor())\n",
    "test_loader = DataLoader(testset, batch_size=batch_size, shuffle=False)"
   ]
  },
  {
   "cell_type": "markdown",
   "metadata": {
    "id": "dhxprWbiZxg-"
   },
   "source": [
    "Implement your **generator** network as a fully connected neural network.\n",
    "\n",
    "You could start with a network that:\n",
    "* takes as input a 100 long vector\n",
    "* has four hidden layers with 2848 neurons\n",
    "* uses LeakyReLU as the activation function\n",
    "* uses BatchNorm\n",
    "* has Tanh as the last layer (we work with MNIST in the -1 to 1 range)"
   ]
  },
  {
   "cell_type": "code",
   "execution_count": 16,
   "metadata": {
    "id": "aHYx5QejZxg_"
   },
   "outputs": [],
   "source": [
    "class Generator(nn.Module):\n",
    "    def __init__(self):\n",
    "        super(Generator, self).__init__()\n",
    "        self.fully_connected = nn.Sequential(\n",
    "            nn.Linear(100, 2848),\n",
    "            nn.LeakyReLU(),\n",
    "            nn.BatchNorm1d(2848),\n",
    "            nn.Linear(2848, 2848),\n",
    "            nn.LeakyReLU(),\n",
    "            nn.BatchNorm1d(2848),\n",
    "            nn.Linear(2848, 2848),\n",
    "            nn.LeakyReLU(),\n",
    "            nn.BatchNorm1d(2848),\n",
    "            nn.Linear(2848, 784),\n",
    "            nn.Tanh(),\n",
    "            )\n",
    "        \n",
    "        self.convolutional = nn.Sequential(\n",
    "            nn.Conv2d(4, 1024, 2, padding=1)\n",
    "            nn.\n",
    "            \n",
    "        )\n",
    "\n",
    "    def forward(self, x):\n",
    "        x = nn.Linear(100, 16)(x)\n",
    "        x = x.view(x.size(0), -1)\n",
    "        x = self.convolutional(x)\n",
    "        x = x.view(x.size(0), 1, 28, 28)\n",
    "        return x"
   ]
  },
  {
   "cell_type": "markdown",
   "metadata": {
    "id": "tGcxpGzQZxhD"
   },
   "source": [
    "Implement your **discriminator** network as a fully connected neural network\n",
    "\n",
    "Start out with a network that\n",
    "* takes as input an $28\\times28$ image\n",
    "* has three hidden layers with [1024, 512, 256] neurons respectively\n",
    "* uses LeakyReLU as the activation function\n",
    "* uses Dropout\n",
    "* has no activation on the final layer (we will call sigmoid if we want a probability)"
   ]
  },
  {
   "cell_type": "code",
   "execution_count": 17,
   "metadata": {
    "id": "e7GEvrDvZxhD"
   },
   "outputs": [],
   "source": [
    "class Discriminator(nn.Module):\n",
    "    def __init__(self):\n",
    "        super(Discriminator, self).__init__()\n",
    "        self.fully_connected = nn.Sequential(\n",
    "            nn.Linear(784, 1024),\n",
    "            nn.LeakyReLU(),\n",
    "            nn.Dropout(),\n",
    "            nn.Linear(1024, 512),\n",
    "            nn.LeakyReLU(),\n",
    "            nn.Dropout(),\n",
    "            nn.Linear(512, 256),\n",
    "            nn.LeakyReLU(),\n",
    "            nn.Dropout(),\n",
    "            nn.Linear(256, 1),\n",
    "            )\n",
    "\n",
    "    def forward(self, x):\n",
    "        x = x.view(x.size(0), -1)\n",
    "        x = self.fully_connected(x)\n",
    "        return x"
   ]
  },
  {
   "cell_type": "code",
   "execution_count": 45,
   "metadata": {},
   "outputs": [],
   "source": [
    "smooth = 0.001\n",
    "def discriminator_loss(x_true, x_fake, D):\n",
    "    real_loss = torch.log(discriminator_final_layer(D(x_true)) + smooth).mean()\n",
    "    fake_loss = torch.log(1-discriminator_final_layer(D(x_fake)) + smooth).mean()\n",
    "    loss = - (real_loss + fake_loss)       \n",
    "    return loss\n",
    "\n",
    "def generator_loss(x_fake, D):\n",
    "    loss = -torch.log(discriminator_final_layer(D(x_fake)) + smooth).mean()\n",
    "    return loss\n",
    "\n",
    "\n",
    "def wgan_"
   ]
  },
  {
   "cell_type": "markdown",
   "metadata": {
    "id": "jWDuWiwP-pj6"
   },
   "source": [
    "Now let's train our model"
   ]
  },
  {
   "cell_type": "code",
   "execution_count": 46,
   "metadata": {
    "id": "fn8RKyxLZxhG"
   },
   "outputs": [
    {
     "data": {
      "image/png": "[encoded data removed]",
      "text/plain": [
       "<Figure size 2000x1000 with 12 Axes>"
      ]
     },
     "metadata": {},
     "output_type": "display_data"
    }
   ],
   "source": [
    "#Initialize networks\n",
    "d = Discriminator().to(device)\n",
    "g = Generator().to(device)\n",
    "d_opt = torch.optim.Adam(d.parameters(), 0.0004, (0.5, 0.999))\n",
    "g_opt = torch.optim.Adam(g.parameters(), 0.0001, (0.5, 0.999))\n",
    "\n",
    "plt.figure(figsize=(20,10))\n",
    "subplots = [plt.subplot(2, 6, k+1) for k in range(12)]\n",
    "num_epochs = 10\n",
    "discriminator_final_layer = torch.sigmoid\n",
    "\n",
    "for epoch in range(num_epochs):\n",
    "    for minibatch_no, (x, target) in enumerate(train_loader):\n",
    "        x_real = x.to(device)*2-1 #scale to (-1, 1) range\n",
    "        z = torch.randn(x.shape[0], 100).to(device)\n",
    "        x_fake = g(z)\n",
    "        #Update discriminator\n",
    "        d.zero_grad()\n",
    "        #remember to detach x_fake before using it to compute the discriminator loss\n",
    "        #otherwise the discriminator loss will backpropagate through the generator as well, which is unnecessary.\n",
    "        d_loss=discriminator_loss(x_real, x_fake.detach(), d)\n",
    "        d_loss.backward()\n",
    "        d_opt.step()\n",
    "\n",
    "        #Update generator\n",
    "        g.zero_grad()\n",
    "        g_loss = generator_loss(x_fake, d)\n",
    "        g_loss.backward()\n",
    "        g_opt.step()\n",
    "\n",
    "        assert(not np.isnan(d_loss.item()))\n",
    "        #Plot results every 100 minibatches\n",
    "        if minibatch_no % 100 == 0:\n",
    "            with torch.no_grad():\n",
    "                P = discriminator_final_layer(d(x_fake))\n",
    "                for k in range(11):\n",
    "                    x_fake_k = x_fake[k].cpu().squeeze()/2+.5\n",
    "                    subplots[k].imshow(x_fake_k, cmap='gray')\n",
    "                    subplots[k].set_title('d(x)=%.2f' % P[k])\n",
    "                    subplots[k].axis('off')\n",
    "                z = torch.randn(batch_size, 100).to(device)\n",
    "                H1 = discriminator_final_layer(d(g(z))).cpu()\n",
    "                H2 = discriminator_final_layer(d(x_real)).cpu()\n",
    "                plot_min = min(H1.min(), H2.min()).item()\n",
    "                plot_max = max(H1.max(), H2.max()).item()\n",
    "                subplots[-1].cla()\n",
    "                subplots[-1].hist(H1.squeeze(), label='fake', range=(plot_min, plot_max), alpha=0.5)\n",
    "                subplots[-1].hist(H2.squeeze(), label='real', range=(plot_min, plot_max), alpha=0.5)\n",
    "                subplots[-1].legend()\n",
    "                subplots[-1].set_xlabel('Probability of being real')\n",
    "                subplots[-1].set_title('Discriminator loss: %.2f' % d_loss.item())\n",
    "\n",
    "                title = 'Epoch {e} - minibatch {n}/{d}'.format(e=epoch+1, n=minibatch_no, d=len(train_loader))\n",
    "                plt.gcf().suptitle(title, fontsize=20)\n",
    "                display.display(plt.gcf())\n",
    "                display.clear_output(wait=True)\n"
   ]
  },
  {
   "cell_type": "markdown",
   "metadata": {
    "id": "S51bKUY_ZxhJ"
   },
   "source": [
    "Do you get a model to generate nice images?\n",
    "\n",
    "The plot shows probabilities of real and generated digits being classified as real. Is the discriminator able to distinguish real from fake? If not, try increasing the capacity of the discriminator.\n",
    "Feel free to change the architecture as you see fit.\n",
    "\n",
    "## Additional tasks\n",
    "* Change the architecture to get better results\n",
    "* Implement an LSGAN\n",
    "* Implement a WGAN with SN\n",
    "* Convert your network to a DCGAN\n",
    "* Visualize what happens when you interpolate between to points in the latent space\n",
    "* Generate images from FashionMNIST\n",
    "\n",
    "### Harder tasks:\n",
    "* Add data augmentation to fake and real images\n",
    "* Use the data augmentation to the generated images\n",
    "* Convert your architecture into an AC-GAN"
   ]
  }
 ],
 "metadata": {
  "accelerator": "GPU",
  "colab": {
   "provenance": []
  },
  "kernelspec": {
   "display_name": "Python 3 (ipykernel)",
   "language": "python",
   "name": "python3"
  },
  "language_info": {
   "codemirror_mode": {
    "name": "ipython",
    "version": 3
   },
   "file_extension": ".py",
   "mimetype": "text/x-python",
   "name": "python",
   "nbconvert_exporter": "python",
   "pygments_lexer": "ipython3",
   "version": "3.11.3"
  }
 },
 "nbformat": 4,
 "nbformat_minor": 1
}
